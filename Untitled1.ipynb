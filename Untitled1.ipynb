{
  "nbformat": 4,
  "nbformat_minor": 0,
  "metadata": {
    "colab": {
      "provenance": [],
      "include_colab_link": true
    },
    "kernelspec": {
      "name": "python3",
      "display_name": "Python 3"
    },
    "language_info": {
      "name": "python"
    }
  },
  "cells": [
    {
      "cell_type": "markdown",
      "metadata": {
        "id": "view-in-github",
        "colab_type": "text"
      },
      "source": [
        "<a href=\"https://colab.research.google.com/github/SR-Rabby/SR-Rabby/blob/main/Untitled1.ipynb\" target=\"_parent\"><img src=\"https://colab.research.google.com/assets/colab-badge.svg\" alt=\"Open In Colab\"/></a>"
      ]
    },
    {
      "cell_type": "code",
      "source": [
        "file_path = '/content/Naruto.txt'\n",
        "try:\n",
        "    with open(file_path, 'r', encoding='utf-8') as file:\n",
        "        text_content = file.read()\n",
        "        print(text_content)\n",
        "except FileNotFoundError:\n",
        "    print(\"File not found. Please provide a valid file path.\")\n",
        "except Exception as e:\n",
        "    print(f\"An error occurred: {e}\")\n"
      ],
      "metadata": {
        "colab": {
          "base_uri": "https://localhost:8080/"
        },
        "id": "-6A9jCGfmGpS",
        "outputId": "3bd18ae6-1f46-4814-dbbf-80bab12f30c5"
      },
      "execution_count": 10,
      "outputs": [
        {
          "output_type": "stream",
          "name": "stdout",
          "text": [
            "Naruto is a Japanese manga series written and illustrated by Masashi Kishimoto. It tells the story of Naruto Uzumaki, a young ninja who seeks recognition from his peers and dreams of becoming the Hokage, the leader of his village. The story is told in two parts: the first is set in Naruto's pre-teen years (volumes 1–27), and the second in his teens (volumes 28–72). The series is based on two one-shot manga by Kishimoto: Karakuri (1995), which earned Kishimoto an honorable mention in Shueisha's monthly Hop Step Award the following year, and Naruto (1997).Naruto was serialized in Shueisha's shōnen manga magazine Weekly Shōnen Jump from September 1999 to November 2014, with its chapters collected in 72 tankōbon volumes. Part I of the manga was adapted into an anime television series by Pierrot and Aniplex, which ran for 220 episodes from October 2002 to February 2007 on TV Tokyo; the English dub of the series aired on Cartoon Network and YTV from September 2005 to December 2009. A second series, which adapts material from Part II of the manga, is titled Naruto: Shippuden and ran on TV Tokyo for 500 episodes from February 2007 to March 2017. The English dub of Shippuden was broadcast on Disney XD in the United States from October 2009 to November 2011, airing the first 98 episodes before eventually switching over to Adult Swim's Toonami programming block in January 2014, starting over from the first episode. After Disney XD removed the series from broadcast, Viz Media began streaming new English dubbed episodes on their streaming service Neon Alley in from December 2012 to March 2016, starting at episode 99 and ending at episode 338 due to the service's shutdown. Besides the anime television series, Pierrot also developed 11 animated films and 12 original video animations (OVAs). Other Naruto-related merchandise includes light novels, video games, and trading cards developed by several companies.\n"
          ]
        }
      ]
    },
    {
      "cell_type": "code",
      "source": [
        "word_count = len(text_content.split())\n",
        "print(f\"The number of words in the text file is: {word_count}\")\n"
      ],
      "metadata": {
        "colab": {
          "base_uri": "https://localhost:8080/"
        },
        "id": "Bkz-Co3OmKzR",
        "outputId": "d20bd8ed-433f-408c-e422-8ae3ba184587"
      },
      "execution_count": 11,
      "outputs": [
        {
          "output_type": "stream",
          "name": "stdout",
          "text": [
            "The number of words in the text file is: 315\n"
          ]
        }
      ]
    },
    {
      "cell_type": "code",
      "source": [
        "from collections import Counter\n",
        "import re\n",
        "\n",
        "words = re.findall(r'\\b\\w+\\b', text_content.lower())\n",
        "word_counts = Counter(words)\n",
        "\n",
        "for word, count in sorted(word_counts.items()):\n",
        "    if count > 1:\n",
        "        print(f\"Word: {word}, Count: {count}\")\n"
      ],
      "metadata": {
        "id": "gY9a9aVmmObx",
        "colab": {
          "base_uri": "https://localhost:8080/"
        },
        "outputId": "92a6bc2e-999b-4438-f1af-bc2ee616b28d"
      },
      "execution_count": 12,
      "outputs": [
        {
          "output_type": "stream",
          "name": "stdout",
          "text": [
            "Word: 2007, Count: 2\n",
            "Word: 2009, Count: 2\n",
            "Word: 2014, Count: 2\n",
            "Word: 72, Count: 2\n",
            "Word: a, Count: 3\n",
            "Word: an, Count: 2\n",
            "Word: and, Count: 10\n",
            "Word: anime, Count: 2\n",
            "Word: at, Count: 2\n",
            "Word: broadcast, Count: 2\n",
            "Word: by, Count: 4\n",
            "Word: december, Count: 2\n",
            "Word: developed, Count: 2\n",
            "Word: disney, Count: 2\n",
            "Word: dub, Count: 2\n",
            "Word: english, Count: 3\n",
            "Word: episode, Count: 3\n",
            "Word: episodes, Count: 4\n",
            "Word: february, Count: 2\n",
            "Word: first, Count: 3\n",
            "Word: for, Count: 2\n",
            "Word: from, Count: 10\n",
            "Word: his, Count: 3\n",
            "Word: in, Count: 9\n",
            "Word: is, Count: 5\n",
            "Word: kishimoto, Count: 3\n",
            "Word: manga, Count: 5\n",
            "Word: march, Count: 2\n",
            "Word: naruto, Count: 7\n",
            "Word: november, Count: 2\n",
            "Word: october, Count: 2\n",
            "Word: of, Count: 7\n",
            "Word: on, Count: 6\n",
            "Word: over, Count: 2\n",
            "Word: part, Count: 2\n",
            "Word: pierrot, Count: 2\n",
            "Word: ran, Count: 2\n",
            "Word: s, Count: 5\n",
            "Word: second, Count: 2\n",
            "Word: september, Count: 2\n",
            "Word: series, Count: 7\n",
            "Word: service, Count: 2\n",
            "Word: shippuden, Count: 2\n",
            "Word: shueisha, Count: 2\n",
            "Word: shōnen, Count: 2\n",
            "Word: starting, Count: 2\n",
            "Word: story, Count: 2\n",
            "Word: streaming, Count: 2\n",
            "Word: television, Count: 2\n",
            "Word: the, Count: 19\n",
            "Word: to, Count: 8\n",
            "Word: tokyo, Count: 2\n",
            "Word: tv, Count: 2\n",
            "Word: two, Count: 2\n",
            "Word: video, Count: 2\n",
            "Word: volumes, Count: 3\n",
            "Word: was, Count: 3\n",
            "Word: which, Count: 3\n",
            "Word: xd, Count: 2\n"
          ]
        }
      ]
    },
    {
      "cell_type": "code",
      "source": [
        "file_path1 = '/content/Naruto.txt'\n",
        "file_path2 = '/content/Naruto plot.txt'\n",
        "\n",
        "try:\n",
        "    with open(file_path1, 'r', encoding='utf-8') as file1:\n",
        "        text_content1 = file1.read()\n",
        "\n",
        "    with open(file_path2, 'r', encoding='utf-8') as file2:\n",
        "        text_content2 = file2.read()\n",
        "\n",
        "    words1 = set(re.findall(r'\\b\\w+\\b', text_content1.lower()))\n",
        "    words2 = set(re.findall(r'\\b\\w+\\b', text_content2.lower()))\n",
        "\n",
        "    common_words = words1 & words2\n",
        "    print(\"Common words in both files:\")\n",
        "    for word in common_words:\n",
        "        print(word)\n",
        "except FileNotFoundError:\n",
        "    print(\"File not found. Please provide valid file paths.\")\n",
        "except Exception as e:\n",
        "    print(f\"An error occurred: {e}\")\n"
      ],
      "metadata": {
        "id": "i8iADyC-mrB-",
        "colab": {
          "base_uri": "https://localhost:8080/"
        },
        "outputId": "67edfb93-44a1-4c29-c6b5-8fa8e6df9f7a"
      },
      "execution_count": 13,
      "outputs": [
        {
          "output_type": "stream",
          "name": "stdout",
          "text": [
            "Common words in both files:\n",
            "naruto\n",
            "at\n",
            "several\n",
            "s\n",
            "leader\n",
            "and\n",
            "after\n",
            "his\n",
            "of\n",
            "12\n",
            "from\n",
            "by\n",
            "with\n",
            "is\n",
            "years\n",
            "an\n",
            "ninja\n",
            "one\n",
            "on\n",
            "uzumaki\n",
            "a\n",
            "due\n",
            "mention\n",
            "hokage\n",
            "village\n",
            "the\n",
            "for\n",
            "to\n",
            "in\n"
          ]
        }
      ]
    },
    {
      "cell_type": "code",
      "source": [
        "pip install textstat\n"
      ],
      "metadata": {
        "id": "13hG6IeArL5D",
        "colab": {
          "base_uri": "https://localhost:8080/"
        },
        "outputId": "b2e7044d-a1a5-4351-ed41-29c7c24cc008"
      },
      "execution_count": null,
      "outputs": [
        {
          "output_type": "stream",
          "name": "stdout",
          "text": [
            "Collecting textstat\n",
            "  Downloading textstat-0.7.3-py3-none-any.whl (105 kB)\n",
            "\u001b[2K     \u001b[90m━━━━━━━━━━━━━━━━━━━━━━━━━━━━━━━━━━━━━━━━\u001b[0m \u001b[32m105.1/105.1 kB\u001b[0m \u001b[31m2.1 MB/s\u001b[0m eta \u001b[36m0:00:00\u001b[0m\n",
            "\u001b[?25hCollecting pyphen (from textstat)\n",
            "  Downloading pyphen-0.14.0-py3-none-any.whl (2.0 MB)\n",
            "\u001b[2K     \u001b[90m━━━━━━━━━━━━━━━━━━━━━━━━━━━━━━━━━━━━━━━━\u001b[0m \u001b[32m2.0/2.0 MB\u001b[0m \u001b[31m12.9 MB/s\u001b[0m eta \u001b[36m0:00:00\u001b[0m\n",
            "\u001b[?25hInstalling collected packages: pyphen, textstat\n",
            "Successfully installed pyphen-0.14.0 textstat-0.7.3\n"
          ]
        }
      ]
    },
    {
      "cell_type": "code",
      "source": [
        "import textstat\n",
        "\n",
        "text_sample = \"/content/Naruto.txt\"\n",
        "\n",
        "\n",
        "grade_level = textstat.flesch_kincaid_grade(text_sample)\n",
        "print(f\"Flesch-Kincaid Grade Level: {grade_level:.2f}\")"
      ],
      "metadata": {
        "id": "LvoUvmCxrSSb",
        "colab": {
          "base_uri": "https://localhost:8080/"
        },
        "outputId": "d459f8f8-5b19-47ea-af44-1c7eb27c1122"
      },
      "execution_count": 14,
      "outputs": [
        {
          "output_type": "stream",
          "name": "stdout",
          "text": [
            "Flesch-Kincaid Grade Level: 32.00\n"
          ]
        }
      ]
    },
    {
      "cell_type": "code",
      "source": [
        "from textblob import TextBlob\n",
        "\n",
        "sample_text = \"/content/Naruto.txt\"\n",
        "\n",
        "blob = TextBlob(sample_text)\n",
        "sentiment_score = blob.sentiment.polarity\n",
        "\n",
        "print(\"Original Text:\")\n",
        "print(sample_text)\n",
        "print(\"\\nSentiment Score:\", sentiment_score)\n",
        "\n",
        "if sentiment_score > 0:\n",
        "    print(\"The text has a positive sentiment.\")\n",
        "elif sentiment_score < 0:\n",
        "    print(\"The text has a negative sentiment.\")\n",
        "else:\n",
        "    print(\"The text is neutral.\")\n"
      ],
      "metadata": {
        "id": "GWiW_aGYrb7D",
        "colab": {
          "base_uri": "https://localhost:8080/"
        },
        "outputId": "d0f24146-ff6c-4447-bd42-e2672f927dc4"
      },
      "execution_count": 15,
      "outputs": [
        {
          "output_type": "stream",
          "name": "stdout",
          "text": [
            "Original Text:\n",
            "/content/Naruto.txt\n",
            "\n",
            "Sentiment Score: 0.0\n",
            "The text is neutral.\n"
          ]
        }
      ]
    }
  ]
}